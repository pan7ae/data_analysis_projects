{
 "cells": [
  {
   "cell_type": "markdown",
   "id": "409a87a6-4107-4038-bde1-8da5ec34d8fd",
   "metadata": {},
   "source": [
    "Datasets:\n",
    "\n",
    "- [120 years of Olympic history: athletes and results](https://www.kaggle.com/datasets/heesoo37/120-years-of-olympic-history-athletes-and-results/code)\n",
    "- [International Country Codes](https://www.worlddata.info/countrycodes.php)\n",
    "- [Country and Continent Codes List](https://datahub.io/JohnSnowLabs/country-and-continent-codes-list)"
   ]
  },
  {
   "cell_type": "markdown",
   "id": "5f75d3be-c8ba-4993-a558-ff9c92485e3e",
   "metadata": {},
   "source": [
    "## 1. Download the Dataset"
   ]
  },
  {
   "cell_type": "markdown",
   "id": "b9a8733a-327b-4b43-bfe4-52e9240cdb38",
   "metadata": {},
   "source": [
    "Import the required libraries"
   ]
  },
  {
   "cell_type": "code",
   "execution_count": 1,
   "id": "bde59f38-66dd-45f7-ae3d-51906a72959b",
   "metadata": {},
   "outputs": [],
   "source": [
    "import pandas as pd\n",
    "import numpy as np\n",
    "import matplotlib.pyplot as plt\n",
    "import seaborn as sns\n",
    "\n",
    "# to draw pictures in jupyter notebook\n",
    "%matplotlib inline\n",
    "\n",
    "sns.set(style=\"whitegrid\")"
   ]
  },
  {
   "cell_type": "markdown",
   "id": "c8be5e7c-9403-45d2-92dc-8ee4e76cfab6",
   "metadata": {},
   "source": [
    "Upload the dataset"
   ]
  },
  {
   "cell_type": "code",
   "execution_count": 2,
   "id": "eff27e9f-a1d6-4636-b93a-dcb51823ac42",
   "metadata": {},
   "outputs": [],
   "source": [
    "athletes_df = pd.read_csv(\"../datasets/athlete_events.csv\")\n",
    "countries_df = pd.read_csv(\"../datasets/noc_regions.csv\")"
   ]
  },
  {
   "cell_type": "markdown",
   "id": "71659dbd-fc70-412e-abe1-54ffe966fbce",
   "metadata": {},
   "source": [
    "## 2. Data Preparation"
   ]
  },
  {
   "cell_type": "code",
   "execution_count": 3,
   "id": "3aa89386-5681-42a9-8106-09f272731d9c",
   "metadata": {},
   "outputs": [
    {
     "data": {
      "text/html": [
       "<div>\n",
       "<style scoped>\n",
       "    .dataframe tbody tr th:only-of-type {\n",
       "        vertical-align: middle;\n",
       "    }\n",
       "\n",
       "    .dataframe tbody tr th {\n",
       "        vertical-align: top;\n",
       "    }\n",
       "\n",
       "    .dataframe thead th {\n",
       "        text-align: right;\n",
       "    }\n",
       "</style>\n",
       "<table border=\"1\" class=\"dataframe\">\n",
       "  <thead>\n",
       "    <tr style=\"text-align: right;\">\n",
       "      <th></th>\n",
       "      <th>ID</th>\n",
       "      <th>Name</th>\n",
       "      <th>Sex</th>\n",
       "      <th>Age</th>\n",
       "      <th>Height</th>\n",
       "      <th>Weight</th>\n",
       "      <th>Team</th>\n",
       "      <th>NOC</th>\n",
       "      <th>Games</th>\n",
       "      <th>Year</th>\n",
       "      <th>Season</th>\n",
       "      <th>City</th>\n",
       "      <th>Sport</th>\n",
       "      <th>Event</th>\n",
       "      <th>Medal</th>\n",
       "    </tr>\n",
       "  </thead>\n",
       "  <tbody>\n",
       "    <tr>\n",
       "      <th>0</th>\n",
       "      <td>1</td>\n",
       "      <td>A Dijiang</td>\n",
       "      <td>M</td>\n",
       "      <td>24.0</td>\n",
       "      <td>180.0</td>\n",
       "      <td>80.0</td>\n",
       "      <td>China</td>\n",
       "      <td>CHN</td>\n",
       "      <td>1992 Summer</td>\n",
       "      <td>1992</td>\n",
       "      <td>Summer</td>\n",
       "      <td>Barcelona</td>\n",
       "      <td>Basketball</td>\n",
       "      <td>Basketball Men's Basketball</td>\n",
       "      <td>NaN</td>\n",
       "    </tr>\n",
       "    <tr>\n",
       "      <th>1</th>\n",
       "      <td>2</td>\n",
       "      <td>A Lamusi</td>\n",
       "      <td>M</td>\n",
       "      <td>23.0</td>\n",
       "      <td>170.0</td>\n",
       "      <td>60.0</td>\n",
       "      <td>China</td>\n",
       "      <td>CHN</td>\n",
       "      <td>2012 Summer</td>\n",
       "      <td>2012</td>\n",
       "      <td>Summer</td>\n",
       "      <td>London</td>\n",
       "      <td>Judo</td>\n",
       "      <td>Judo Men's Extra-Lightweight</td>\n",
       "      <td>NaN</td>\n",
       "    </tr>\n",
       "    <tr>\n",
       "      <th>2</th>\n",
       "      <td>3</td>\n",
       "      <td>Gunnar Nielsen Aaby</td>\n",
       "      <td>M</td>\n",
       "      <td>24.0</td>\n",
       "      <td>NaN</td>\n",
       "      <td>NaN</td>\n",
       "      <td>Denmark</td>\n",
       "      <td>DEN</td>\n",
       "      <td>1920 Summer</td>\n",
       "      <td>1920</td>\n",
       "      <td>Summer</td>\n",
       "      <td>Antwerpen</td>\n",
       "      <td>Football</td>\n",
       "      <td>Football Men's Football</td>\n",
       "      <td>NaN</td>\n",
       "    </tr>\n",
       "    <tr>\n",
       "      <th>3</th>\n",
       "      <td>4</td>\n",
       "      <td>Edgar Lindenau Aabye</td>\n",
       "      <td>M</td>\n",
       "      <td>34.0</td>\n",
       "      <td>NaN</td>\n",
       "      <td>NaN</td>\n",
       "      <td>Denmark/Sweden</td>\n",
       "      <td>DEN</td>\n",
       "      <td>1900 Summer</td>\n",
       "      <td>1900</td>\n",
       "      <td>Summer</td>\n",
       "      <td>Paris</td>\n",
       "      <td>Tug-Of-War</td>\n",
       "      <td>Tug-Of-War Men's Tug-Of-War</td>\n",
       "      <td>Gold</td>\n",
       "    </tr>\n",
       "    <tr>\n",
       "      <th>4</th>\n",
       "      <td>5</td>\n",
       "      <td>Christine Jacoba Aaftink</td>\n",
       "      <td>F</td>\n",
       "      <td>21.0</td>\n",
       "      <td>185.0</td>\n",
       "      <td>82.0</td>\n",
       "      <td>Netherlands</td>\n",
       "      <td>NED</td>\n",
       "      <td>1988 Winter</td>\n",
       "      <td>1988</td>\n",
       "      <td>Winter</td>\n",
       "      <td>Calgary</td>\n",
       "      <td>Speed Skating</td>\n",
       "      <td>Speed Skating Women's 500 metres</td>\n",
       "      <td>NaN</td>\n",
       "    </tr>\n",
       "  </tbody>\n",
       "</table>\n",
       "</div>"
      ],
      "text/plain": [
       "   ID                      Name Sex   Age  Height  Weight            Team  \\\n",
       "0   1                 A Dijiang   M  24.0   180.0    80.0           China   \n",
       "1   2                  A Lamusi   M  23.0   170.0    60.0           China   \n",
       "2   3       Gunnar Nielsen Aaby   M  24.0     NaN     NaN         Denmark   \n",
       "3   4      Edgar Lindenau Aabye   M  34.0     NaN     NaN  Denmark/Sweden   \n",
       "4   5  Christine Jacoba Aaftink   F  21.0   185.0    82.0     Netherlands   \n",
       "\n",
       "   NOC        Games  Year  Season       City          Sport  \\\n",
       "0  CHN  1992 Summer  1992  Summer  Barcelona     Basketball   \n",
       "1  CHN  2012 Summer  2012  Summer     London           Judo   \n",
       "2  DEN  1920 Summer  1920  Summer  Antwerpen       Football   \n",
       "3  DEN  1900 Summer  1900  Summer      Paris     Tug-Of-War   \n",
       "4  NED  1988 Winter  1988  Winter    Calgary  Speed Skating   \n",
       "\n",
       "                              Event Medal  \n",
       "0       Basketball Men's Basketball   NaN  \n",
       "1      Judo Men's Extra-Lightweight   NaN  \n",
       "2           Football Men's Football   NaN  \n",
       "3       Tug-Of-War Men's Tug-Of-War  Gold  \n",
       "4  Speed Skating Women's 500 metres   NaN  "
      ]
     },
     "execution_count": 3,
     "metadata": {},
     "output_type": "execute_result"
    }
   ],
   "source": [
    "athletes_df.head()"
   ]
  },
  {
   "cell_type": "markdown",
   "id": "17ff2896-8f65-4ea6-a80d-0793f3dbac01",
   "metadata": {},
   "source": [
    "### Start with athletes_df"
   ]
  },
  {
   "cell_type": "markdown",
   "id": "4d83f3e8-dd2e-425d-8f18-afc2c8395915",
   "metadata": {},
   "source": [
    "Basic info of pd.DataFrame"
   ]
  },
  {
   "cell_type": "code",
   "execution_count": 4,
   "id": "46aaa10a-91e1-421a-b5fd-a82748730db1",
   "metadata": {},
   "outputs": [
    {
     "name": "stdout",
     "output_type": "stream",
     "text": [
      "<class 'pandas.core.frame.DataFrame'>\n",
      "RangeIndex: 271116 entries, 0 to 271115\n",
      "Data columns (total 15 columns):\n",
      " #   Column  Non-Null Count   Dtype  \n",
      "---  ------  --------------   -----  \n",
      " 0   ID      271116 non-null  int64  \n",
      " 1   Name    271116 non-null  object \n",
      " 2   Sex     271116 non-null  object \n",
      " 3   Age     261642 non-null  float64\n",
      " 4   Height  210945 non-null  float64\n",
      " 5   Weight  208241 non-null  float64\n",
      " 6   Team    271116 non-null  object \n",
      " 7   NOC     271116 non-null  object \n",
      " 8   Games   271116 non-null  object \n",
      " 9   Year    271116 non-null  int64  \n",
      " 10  Season  271116 non-null  object \n",
      " 11  City    271116 non-null  object \n",
      " 12  Sport   271116 non-null  object \n",
      " 13  Event   271116 non-null  object \n",
      " 14  Medal   39783 non-null   object \n",
      "dtypes: float64(3), int64(2), object(10)\n",
      "memory usage: 31.0+ MB\n"
     ]
    }
   ],
   "source": [
    "athletes_df.info()"
   ]
  },
  {
   "cell_type": "markdown",
   "id": "ff3eac21-29cb-4850-8e6d-c6ec22f65b2e",
   "metadata": {},
   "source": [
    "Checking for any missing values"
   ]
  },
  {
   "cell_type": "code",
   "execution_count": 5,
   "id": "b0cf0311-806e-4de9-8186-9e99c079db9f",
   "metadata": {},
   "outputs": [
    {
     "data": {
      "text/plain": [
       "ID        0.000000\n",
       "Name      0.000000\n",
       "Sex       0.000000\n",
       "Age       0.034944\n",
       "Height    0.221938\n",
       "Weight    0.231912\n",
       "Team      0.000000\n",
       "NOC       0.000000\n",
       "Games     0.000000\n",
       "Year      0.000000\n",
       "Season    0.000000\n",
       "City      0.000000\n",
       "Sport     0.000000\n",
       "Event     0.000000\n",
       "Medal     0.853262\n",
       "dtype: float64"
      ]
     },
     "execution_count": 5,
     "metadata": {},
     "output_type": "execute_result"
    }
   ],
   "source": [
    "athletes_df.isna().mean()"
   ]
  },
  {
   "cell_type": "markdown",
   "id": "7c20cfa7-3067-45ce-9f6d-a9132b432659",
   "metadata": {},
   "source": [
    "Checking for the total number of rows & columns"
   ]
  },
  {
   "cell_type": "code",
   "execution_count": 6,
   "id": "4010990b-a8cb-40db-9dbe-55546ed07f6e",
   "metadata": {},
   "outputs": [
    {
     "data": {
      "text/plain": [
       "(271116, 15)"
      ]
     },
     "execution_count": 6,
     "metadata": {},
     "output_type": "execute_result"
    }
   ],
   "source": [
    "athletes_df.shape"
   ]
  },
  {
   "cell_type": "markdown",
   "id": "272d7201-b10d-4dc7-9992-947425228e19",
   "metadata": {},
   "source": [
    "`Name` column contains duplicate entires. I am going to count the number of athletes in the dataframe"
   ]
  },
  {
   "cell_type": "code",
   "execution_count": 7,
   "id": "75f405d0-e12a-46f7-9f41-97868e2d6ff0",
   "metadata": {},
   "outputs": [
    {
     "data": {
      "text/plain": [
       "134732"
      ]
     },
     "execution_count": 7,
     "metadata": {},
     "output_type": "execute_result"
    }
   ],
   "source": [
    "athletes_df[\"Name\"].nunique()"
   ]
  },
  {
   "cell_type": "markdown",
   "id": "23621f1d-fb64-486e-9edb-ea9f7b564c3c",
   "metadata": {},
   "source": [
    "Kind of sports are represented in the dataframe"
   ]
  },
  {
   "cell_type": "raw",
   "id": "fbc5ca74-b2cd-4381-bff3-75a46db2e1c4",
   "metadata": {},
   "source": [
    "athletes_df[\"Sport\"].unique()"
   ]
  },
  {
   "cell_type": "code",
   "execution_count": 8,
   "id": "0dac89e1-f43e-491c-94b5-777dcfdae453",
   "metadata": {},
   "outputs": [
    {
     "data": {
      "text/plain": [
       "66"
      ]
     },
     "execution_count": 8,
     "metadata": {},
     "output_type": "execute_result"
    }
   ],
   "source": [
    "athletes_df[\"Sport\"].nunique()"
   ]
  },
  {
   "cell_type": "markdown",
   "id": "0b77d301-ac62-4771-9c1c-f2a40a44bba7",
   "metadata": {},
   "source": [
    "Check for the duplicated rows and drop them"
   ]
  },
  {
   "cell_type": "code",
   "execution_count": 9,
   "id": "1b6c54ae-f46b-4fac-8082-598144a2735f",
   "metadata": {},
   "outputs": [
    {
     "data": {
      "text/plain": [
       "1385"
      ]
     },
     "execution_count": 9,
     "metadata": {},
     "output_type": "execute_result"
    }
   ],
   "source": [
    "athletes_df.duplicated().sum()"
   ]
  },
  {
   "cell_type": "code",
   "execution_count": 10,
   "id": "39bce4fb-2eb3-442f-b092-df6ade9f4508",
   "metadata": {},
   "outputs": [],
   "source": [
    "athletes_df.drop_duplicates(['ID', 'Name', 'Games', 'Sport', 'Event', 'Medal'], inplace=True)"
   ]
  },
  {
   "cell_type": "code",
   "execution_count": 11,
   "id": "9efd3f8c-8c63-488b-aa30-136494bde18f",
   "metadata": {},
   "outputs": [
    {
     "data": {
      "text/plain": [
       "(269718, 15)"
      ]
     },
     "execution_count": 11,
     "metadata": {},
     "output_type": "execute_result"
    }
   ],
   "source": [
    "athletes_df.shape"
   ]
  },
  {
   "cell_type": "code",
   "execution_count": 12,
   "id": "58b04c93-8111-457c-b71c-1d6ae3055bef",
   "metadata": {},
   "outputs": [
    {
     "data": {
      "text/plain": [
       "0"
      ]
     },
     "execution_count": 12,
     "metadata": {},
     "output_type": "execute_result"
    }
   ],
   "source": [
    "athletes_df.duplicated().sum()"
   ]
  },
  {
   "cell_type": "markdown",
   "id": "837695a5-7183-421f-93c0-f49fa1db3ea0",
   "metadata": {},
   "source": [
    "We will work with the Winter Olympic Games. Let's choose \"Winter\" in the `Season`column"
   ]
  },
  {
   "cell_type": "code",
   "execution_count": 13,
   "id": "a69fcbe4-8082-43d8-a3a6-ca18b56ed82b",
   "metadata": {},
   "outputs": [],
   "source": [
    "athletes_df = athletes_df[athletes_df[\"Season\"] == \"Winter\"]"
   ]
  },
  {
   "cell_type": "markdown",
   "id": "d1d1f2e8-4f6f-4a11-93c1-c546f1e3d18b",
   "metadata": {},
   "source": [
    "We can now make some conclusions regarding this dataframe\n",
    "- It contains 271116 rows and 15 columns.\n",
    "- There are 134732 athletes\n",
    "- It contains 1385 duplicated values\n",
    "- There are 66 kind of sports\n",
    "\n",
    "I've created a new dataframe only with the Winter Olympic Games and without duplicates"
   ]
  },
  {
   "cell_type": "markdown",
   "id": "12a7eaa8-6b10-4502-b879-2d5b139aa9df",
   "metadata": {},
   "source": [
    "### Take a look on NOC regions dataset"
   ]
  },
  {
   "cell_type": "code",
   "execution_count": 14,
   "id": "c989f476-ad82-4c0c-b43c-d11ff45c27f3",
   "metadata": {},
   "outputs": [
    {
     "data": {
      "text/html": [
       "<div>\n",
       "<style scoped>\n",
       "    .dataframe tbody tr th:only-of-type {\n",
       "        vertical-align: middle;\n",
       "    }\n",
       "\n",
       "    .dataframe tbody tr th {\n",
       "        vertical-align: top;\n",
       "    }\n",
       "\n",
       "    .dataframe thead th {\n",
       "        text-align: right;\n",
       "    }\n",
       "</style>\n",
       "<table border=\"1\" class=\"dataframe\">\n",
       "  <thead>\n",
       "    <tr style=\"text-align: right;\">\n",
       "      <th></th>\n",
       "      <th>NOC</th>\n",
       "      <th>region</th>\n",
       "      <th>notes</th>\n",
       "    </tr>\n",
       "  </thead>\n",
       "  <tbody>\n",
       "    <tr>\n",
       "      <th>0</th>\n",
       "      <td>AFG</td>\n",
       "      <td>Afghanistan</td>\n",
       "      <td>NaN</td>\n",
       "    </tr>\n",
       "    <tr>\n",
       "      <th>1</th>\n",
       "      <td>AHO</td>\n",
       "      <td>Curacao</td>\n",
       "      <td>Netherlands Antilles</td>\n",
       "    </tr>\n",
       "    <tr>\n",
       "      <th>2</th>\n",
       "      <td>ALB</td>\n",
       "      <td>Albania</td>\n",
       "      <td>NaN</td>\n",
       "    </tr>\n",
       "    <tr>\n",
       "      <th>3</th>\n",
       "      <td>ALG</td>\n",
       "      <td>Algeria</td>\n",
       "      <td>NaN</td>\n",
       "    </tr>\n",
       "    <tr>\n",
       "      <th>4</th>\n",
       "      <td>AND</td>\n",
       "      <td>Andorra</td>\n",
       "      <td>NaN</td>\n",
       "    </tr>\n",
       "  </tbody>\n",
       "</table>\n",
       "</div>"
      ],
      "text/plain": [
       "   NOC       region                 notes\n",
       "0  AFG  Afghanistan                   NaN\n",
       "1  AHO      Curacao  Netherlands Antilles\n",
       "2  ALB      Albania                   NaN\n",
       "3  ALG      Algeria                   NaN\n",
       "4  AND      Andorra                   NaN"
      ]
     },
     "execution_count": 14,
     "metadata": {},
     "output_type": "execute_result"
    }
   ],
   "source": [
    "countries_df.head()"
   ]
  },
  {
   "cell_type": "code",
   "execution_count": 15,
   "id": "6da744fc-9d1d-4ab8-898b-734c3076317c",
   "metadata": {},
   "outputs": [
    {
     "name": "stdout",
     "output_type": "stream",
     "text": [
      "<class 'pandas.core.frame.DataFrame'>\n",
      "RangeIndex: 230 entries, 0 to 229\n",
      "Data columns (total 3 columns):\n",
      " #   Column  Non-Null Count  Dtype \n",
      "---  ------  --------------  ----- \n",
      " 0   NOC     230 non-null    object\n",
      " 1   region  227 non-null    object\n",
      " 2   notes   21 non-null     object\n",
      "dtypes: object(3)\n",
      "memory usage: 5.5+ KB\n"
     ]
    }
   ],
   "source": [
    "countries_df.info()"
   ]
  },
  {
   "cell_type": "markdown",
   "id": "07a5d747-d1e1-4960-83b1-4b392fbffb14",
   "metadata": {},
   "source": [
    "### Let's merge two DataFrames by `NOC` column"
   ]
  },
  {
   "cell_type": "code",
   "execution_count": 16,
   "id": "520d9845-8772-4c9e-9ba8-98c3fa8e9c1d",
   "metadata": {},
   "outputs": [
    {
     "data": {
      "text/html": [
       "<div>\n",
       "<style scoped>\n",
       "    .dataframe tbody tr th:only-of-type {\n",
       "        vertical-align: middle;\n",
       "    }\n",
       "\n",
       "    .dataframe tbody tr th {\n",
       "        vertical-align: top;\n",
       "    }\n",
       "\n",
       "    .dataframe thead th {\n",
       "        text-align: right;\n",
       "    }\n",
       "</style>\n",
       "<table border=\"1\" class=\"dataframe\">\n",
       "  <thead>\n",
       "    <tr style=\"text-align: right;\">\n",
       "      <th></th>\n",
       "      <th>ID</th>\n",
       "      <th>Name</th>\n",
       "      <th>Sex</th>\n",
       "      <th>Age</th>\n",
       "      <th>Height</th>\n",
       "      <th>Weight</th>\n",
       "      <th>Team</th>\n",
       "      <th>NOC</th>\n",
       "      <th>Games</th>\n",
       "      <th>Year</th>\n",
       "      <th>Season</th>\n",
       "      <th>City</th>\n",
       "      <th>Sport</th>\n",
       "      <th>Event</th>\n",
       "      <th>Medal</th>\n",
       "      <th>region</th>\n",
       "      <th>notes</th>\n",
       "    </tr>\n",
       "  </thead>\n",
       "  <tbody>\n",
       "    <tr>\n",
       "      <th>0</th>\n",
       "      <td>5</td>\n",
       "      <td>Christine Jacoba Aaftink</td>\n",
       "      <td>F</td>\n",
       "      <td>21.0</td>\n",
       "      <td>185.0</td>\n",
       "      <td>82.0</td>\n",
       "      <td>Netherlands</td>\n",
       "      <td>NED</td>\n",
       "      <td>1988 Winter</td>\n",
       "      <td>1988</td>\n",
       "      <td>Winter</td>\n",
       "      <td>Calgary</td>\n",
       "      <td>Speed Skating</td>\n",
       "      <td>Speed Skating Women's 500 metres</td>\n",
       "      <td>NaN</td>\n",
       "      <td>Netherlands</td>\n",
       "      <td>NaN</td>\n",
       "    </tr>\n",
       "    <tr>\n",
       "      <th>1</th>\n",
       "      <td>5</td>\n",
       "      <td>Christine Jacoba Aaftink</td>\n",
       "      <td>F</td>\n",
       "      <td>21.0</td>\n",
       "      <td>185.0</td>\n",
       "      <td>82.0</td>\n",
       "      <td>Netherlands</td>\n",
       "      <td>NED</td>\n",
       "      <td>1988 Winter</td>\n",
       "      <td>1988</td>\n",
       "      <td>Winter</td>\n",
       "      <td>Calgary</td>\n",
       "      <td>Speed Skating</td>\n",
       "      <td>Speed Skating Women's 1,000 metres</td>\n",
       "      <td>NaN</td>\n",
       "      <td>Netherlands</td>\n",
       "      <td>NaN</td>\n",
       "    </tr>\n",
       "    <tr>\n",
       "      <th>2</th>\n",
       "      <td>5</td>\n",
       "      <td>Christine Jacoba Aaftink</td>\n",
       "      <td>F</td>\n",
       "      <td>25.0</td>\n",
       "      <td>185.0</td>\n",
       "      <td>82.0</td>\n",
       "      <td>Netherlands</td>\n",
       "      <td>NED</td>\n",
       "      <td>1992 Winter</td>\n",
       "      <td>1992</td>\n",
       "      <td>Winter</td>\n",
       "      <td>Albertville</td>\n",
       "      <td>Speed Skating</td>\n",
       "      <td>Speed Skating Women's 500 metres</td>\n",
       "      <td>NaN</td>\n",
       "      <td>Netherlands</td>\n",
       "      <td>NaN</td>\n",
       "    </tr>\n",
       "    <tr>\n",
       "      <th>3</th>\n",
       "      <td>5</td>\n",
       "      <td>Christine Jacoba Aaftink</td>\n",
       "      <td>F</td>\n",
       "      <td>25.0</td>\n",
       "      <td>185.0</td>\n",
       "      <td>82.0</td>\n",
       "      <td>Netherlands</td>\n",
       "      <td>NED</td>\n",
       "      <td>1992 Winter</td>\n",
       "      <td>1992</td>\n",
       "      <td>Winter</td>\n",
       "      <td>Albertville</td>\n",
       "      <td>Speed Skating</td>\n",
       "      <td>Speed Skating Women's 1,000 metres</td>\n",
       "      <td>NaN</td>\n",
       "      <td>Netherlands</td>\n",
       "      <td>NaN</td>\n",
       "    </tr>\n",
       "    <tr>\n",
       "      <th>4</th>\n",
       "      <td>5</td>\n",
       "      <td>Christine Jacoba Aaftink</td>\n",
       "      <td>F</td>\n",
       "      <td>27.0</td>\n",
       "      <td>185.0</td>\n",
       "      <td>82.0</td>\n",
       "      <td>Netherlands</td>\n",
       "      <td>NED</td>\n",
       "      <td>1994 Winter</td>\n",
       "      <td>1994</td>\n",
       "      <td>Winter</td>\n",
       "      <td>Lillehammer</td>\n",
       "      <td>Speed Skating</td>\n",
       "      <td>Speed Skating Women's 500 metres</td>\n",
       "      <td>NaN</td>\n",
       "      <td>Netherlands</td>\n",
       "      <td>NaN</td>\n",
       "    </tr>\n",
       "  </tbody>\n",
       "</table>\n",
       "</div>"
      ],
      "text/plain": [
       "   ID                      Name Sex   Age  Height  Weight         Team  NOC  \\\n",
       "0   5  Christine Jacoba Aaftink   F  21.0   185.0    82.0  Netherlands  NED   \n",
       "1   5  Christine Jacoba Aaftink   F  21.0   185.0    82.0  Netherlands  NED   \n",
       "2   5  Christine Jacoba Aaftink   F  25.0   185.0    82.0  Netherlands  NED   \n",
       "3   5  Christine Jacoba Aaftink   F  25.0   185.0    82.0  Netherlands  NED   \n",
       "4   5  Christine Jacoba Aaftink   F  27.0   185.0    82.0  Netherlands  NED   \n",
       "\n",
       "         Games  Year  Season         City          Sport  \\\n",
       "0  1988 Winter  1988  Winter      Calgary  Speed Skating   \n",
       "1  1988 Winter  1988  Winter      Calgary  Speed Skating   \n",
       "2  1992 Winter  1992  Winter  Albertville  Speed Skating   \n",
       "3  1992 Winter  1992  Winter  Albertville  Speed Skating   \n",
       "4  1994 Winter  1994  Winter  Lillehammer  Speed Skating   \n",
       "\n",
       "                                Event Medal       region notes  \n",
       "0    Speed Skating Women's 500 metres   NaN  Netherlands   NaN  \n",
       "1  Speed Skating Women's 1,000 metres   NaN  Netherlands   NaN  \n",
       "2    Speed Skating Women's 500 metres   NaN  Netherlands   NaN  \n",
       "3  Speed Skating Women's 1,000 metres   NaN  Netherlands   NaN  \n",
       "4    Speed Skating Women's 500 metres   NaN  Netherlands   NaN  "
      ]
     },
     "execution_count": 16,
     "metadata": {},
     "output_type": "execute_result"
    }
   ],
   "source": [
    "merged_df = athletes_df.merge(countries_df, on=\"NOC\", how=\"left\")\n",
    "merged_df.head()"
   ]
  },
  {
   "cell_type": "markdown",
   "id": "0f857d3d",
   "metadata": {},
   "source": [
    "### Datasets with continents, countries and theid codes"
   ]
  },
  {
   "cell_type": "markdown",
   "id": "55c9e4c8-f686-4ab6-99ec-6927d2198ac6",
   "metadata": {},
   "source": [
    "The dataset with country codes is paid for. That's why I have successfully scraped and saved it as `Country Codes.csv`"
   ]
  },
  {
   "cell_type": "code",
   "execution_count": 17,
   "id": "bf91abab-a67e-48f1-aaf9-4172ea4f6d63",
   "metadata": {},
   "outputs": [],
   "source": [
    "x = pd.read_html(\"https://www.worlddata.info/countrycodes.php\")[0]"
   ]
  },
  {
   "cell_type": "code",
   "execution_count": 18,
   "id": "d50d16dd-3b25-47f4-b47a-2b2a24c6bb5c",
   "metadata": {},
   "outputs": [],
   "source": [
    "x.to_csv(\"../datasets/Country Codes.csv\", index=False, encoding=\"utf-8\")"
   ]
  },
  {
   "cell_type": "code",
   "execution_count": 19,
   "id": "5a711777-e364-4f17-887f-f7de34661158",
   "metadata": {},
   "outputs": [],
   "source": [
    "del x"
   ]
  },
  {
   "cell_type": "markdown",
   "id": "725066d5",
   "metadata": {},
   "source": [
    "Read them"
   ]
  },
  {
   "cell_type": "code",
   "execution_count": 20,
   "id": "34f633ed-3842-47fb-87bc-1ba0bed2da48",
   "metadata": {},
   "outputs": [],
   "source": [
    "iso_to_noc = pd.read_csv(\"../datasets/Country Codes.csv\")\n",
    "continents_df = pd.read_csv(\"../datasets/country-and-continent-codes-list-csv_csv.csv\")"
   ]
  },
  {
   "cell_type": "code",
   "execution_count": 21,
   "id": "505a5b98-3b8c-4ac4-93bf-f0a9841f4ad0",
   "metadata": {},
   "outputs": [
    {
     "data": {
      "text/html": [
       "<div>\n",
       "<style scoped>\n",
       "    .dataframe tbody tr th:only-of-type {\n",
       "        vertical-align: middle;\n",
       "    }\n",
       "\n",
       "    .dataframe tbody tr th {\n",
       "        vertical-align: top;\n",
       "    }\n",
       "\n",
       "    .dataframe thead th {\n",
       "        text-align: right;\n",
       "    }\n",
       "</style>\n",
       "<table border=\"1\" class=\"dataframe\">\n",
       "  <thead>\n",
       "    <tr style=\"text-align: right;\">\n",
       "      <th></th>\n",
       "      <th>Country</th>\n",
       "      <th>ISO 3166-1 alpha2</th>\n",
       "      <th>ISO 3166-1 alpha3</th>\n",
       "      <th>ISO 3166-1 numeric</th>\n",
       "      <th>IOC</th>\n",
       "      <th>Fips 10</th>\n",
       "      <th>License Plate</th>\n",
       "      <th>Domain</th>\n",
       "    </tr>\n",
       "  </thead>\n",
       "  <tbody>\n",
       "    <tr>\n",
       "      <th>0</th>\n",
       "      <td>Afghanistan</td>\n",
       "      <td>AF</td>\n",
       "      <td>AFG</td>\n",
       "      <td>4</td>\n",
       "      <td>AFG</td>\n",
       "      <td>AF</td>\n",
       "      <td>AFG</td>\n",
       "      <td>.af</td>\n",
       "    </tr>\n",
       "    <tr>\n",
       "      <th>1</th>\n",
       "      <td>Åland Islands</td>\n",
       "      <td>AX</td>\n",
       "      <td>ALA</td>\n",
       "      <td>248</td>\n",
       "      <td>NaN</td>\n",
       "      <td>NaN</td>\n",
       "      <td>AX</td>\n",
       "      <td>.ax</td>\n",
       "    </tr>\n",
       "    <tr>\n",
       "      <th>2</th>\n",
       "      <td>Albania</td>\n",
       "      <td>AL</td>\n",
       "      <td>ALB</td>\n",
       "      <td>8</td>\n",
       "      <td>ALB</td>\n",
       "      <td>AL</td>\n",
       "      <td>AL</td>\n",
       "      <td>.al</td>\n",
       "    </tr>\n",
       "    <tr>\n",
       "      <th>3</th>\n",
       "      <td>Algeria</td>\n",
       "      <td>DZ</td>\n",
       "      <td>DZA</td>\n",
       "      <td>12</td>\n",
       "      <td>ALG</td>\n",
       "      <td>AG</td>\n",
       "      <td>DZ</td>\n",
       "      <td>.dz</td>\n",
       "    </tr>\n",
       "    <tr>\n",
       "      <th>4</th>\n",
       "      <td>American Samoa</td>\n",
       "      <td>AS</td>\n",
       "      <td>ASM</td>\n",
       "      <td>16</td>\n",
       "      <td>ASA</td>\n",
       "      <td>AQ</td>\n",
       "      <td>USA</td>\n",
       "      <td>.as</td>\n",
       "    </tr>\n",
       "  </tbody>\n",
       "</table>\n",
       "</div>"
      ],
      "text/plain": [
       "          Country ISO 3166-1 alpha2 ISO 3166-1 alpha3  ISO 3166-1 numeric  \\\n",
       "0     Afghanistan                AF               AFG                   4   \n",
       "1   Åland Islands                AX               ALA                 248   \n",
       "2         Albania                AL               ALB                   8   \n",
       "3         Algeria                DZ               DZA                  12   \n",
       "4  American Samoa                AS               ASM                  16   \n",
       "\n",
       "   IOC Fips 10 License Plate Domain  \n",
       "0  AFG      AF           AFG    .af  \n",
       "1  NaN     NaN            AX    .ax  \n",
       "2  ALB      AL            AL    .al  \n",
       "3  ALG      AG            DZ    .dz  \n",
       "4  ASA      AQ           USA    .as  "
      ]
     },
     "execution_count": 21,
     "metadata": {},
     "output_type": "execute_result"
    }
   ],
   "source": [
    "iso_to_noc.head()"
   ]
  },
  {
   "cell_type": "code",
   "execution_count": 22,
   "id": "df99a60e-e21d-4b97-af69-ea8e5e671f1e",
   "metadata": {},
   "outputs": [
    {
     "data": {
      "text/html": [
       "<div>\n",
       "<style scoped>\n",
       "    .dataframe tbody tr th:only-of-type {\n",
       "        vertical-align: middle;\n",
       "    }\n",
       "\n",
       "    .dataframe tbody tr th {\n",
       "        vertical-align: top;\n",
       "    }\n",
       "\n",
       "    .dataframe thead th {\n",
       "        text-align: right;\n",
       "    }\n",
       "</style>\n",
       "<table border=\"1\" class=\"dataframe\">\n",
       "  <thead>\n",
       "    <tr style=\"text-align: right;\">\n",
       "      <th></th>\n",
       "      <th>Continent_Name</th>\n",
       "      <th>Continent_Code</th>\n",
       "      <th>Country_Name</th>\n",
       "      <th>Two_Letter_Country_Code</th>\n",
       "      <th>Three_Letter_Country_Code</th>\n",
       "      <th>Country_Number</th>\n",
       "    </tr>\n",
       "  </thead>\n",
       "  <tbody>\n",
       "    <tr>\n",
       "      <th>0</th>\n",
       "      <td>Asia</td>\n",
       "      <td>AS</td>\n",
       "      <td>Afghanistan, Islamic Republic of</td>\n",
       "      <td>AF</td>\n",
       "      <td>AFG</td>\n",
       "      <td>4.0</td>\n",
       "    </tr>\n",
       "    <tr>\n",
       "      <th>1</th>\n",
       "      <td>Europe</td>\n",
       "      <td>EU</td>\n",
       "      <td>Albania, Republic of</td>\n",
       "      <td>AL</td>\n",
       "      <td>ALB</td>\n",
       "      <td>8.0</td>\n",
       "    </tr>\n",
       "    <tr>\n",
       "      <th>2</th>\n",
       "      <td>Antarctica</td>\n",
       "      <td>AN</td>\n",
       "      <td>Antarctica (the territory South of 60 deg S)</td>\n",
       "      <td>AQ</td>\n",
       "      <td>ATA</td>\n",
       "      <td>10.0</td>\n",
       "    </tr>\n",
       "    <tr>\n",
       "      <th>3</th>\n",
       "      <td>Africa</td>\n",
       "      <td>AF</td>\n",
       "      <td>Algeria, People's Democratic Republic of</td>\n",
       "      <td>DZ</td>\n",
       "      <td>DZA</td>\n",
       "      <td>12.0</td>\n",
       "    </tr>\n",
       "    <tr>\n",
       "      <th>4</th>\n",
       "      <td>Oceania</td>\n",
       "      <td>OC</td>\n",
       "      <td>American Samoa</td>\n",
       "      <td>AS</td>\n",
       "      <td>ASM</td>\n",
       "      <td>16.0</td>\n",
       "    </tr>\n",
       "  </tbody>\n",
       "</table>\n",
       "</div>"
      ],
      "text/plain": [
       "  Continent_Name Continent_Code                                  Country_Name  \\\n",
       "0           Asia             AS              Afghanistan, Islamic Republic of   \n",
       "1         Europe             EU                          Albania, Republic of   \n",
       "2     Antarctica             AN  Antarctica (the territory South of 60 deg S)   \n",
       "3         Africa             AF      Algeria, People's Democratic Republic of   \n",
       "4        Oceania             OC                                American Samoa   \n",
       "\n",
       "  Two_Letter_Country_Code Three_Letter_Country_Code  Country_Number  \n",
       "0                      AF                       AFG             4.0  \n",
       "1                      AL                       ALB             8.0  \n",
       "2                      AQ                       ATA            10.0  \n",
       "3                      DZ                       DZA            12.0  \n",
       "4                      AS                       ASM            16.0  "
      ]
     },
     "execution_count": 22,
     "metadata": {},
     "output_type": "execute_result"
    }
   ],
   "source": [
    "continents_df.head()"
   ]
  },
  {
   "cell_type": "markdown",
   "id": "55ce7371-e6e7-4210-ba7c-c92604ee8499",
   "metadata": {},
   "source": [
    "According to the `iso_to_noc` dataframe and for convenient work, I am going to rename some columns in the dataframes"
   ]
  },
  {
   "cell_type": "code",
   "execution_count": 23,
   "id": "16e05d7f-de3b-4b2f-837a-5ec8935f6968",
   "metadata": {},
   "outputs": [],
   "source": [
    "continents_df.rename(columns={\"Two_Letter_Country_Code\": \"alpha 2\",\n",
    "                             \"Three_Letter_Country_Code\": \"alpha 3\"},\n",
    "                    inplace=True)\n",
    "\n",
    "iso_to_noc.rename(columns={\"ISO 3166-1 alpha2\": \"alpha 2\",\n",
    "                           \"ISO 3166-1 alpha3\": \"alpha 3\",\n",
    "                           \"ISO 3166-1 numeric\": \"numeric\"},\n",
    "                 inplace=True)"
   ]
  },
  {
   "cell_type": "markdown",
   "id": "e09edba1-2a21-4fb4-87b2-4a73c86ba145",
   "metadata": {},
   "source": [
    "Using the `alpha 3` parameter, merge these dataframes"
   ]
  },
  {
   "cell_type": "code",
   "execution_count": 24,
   "id": "f2ae24a4-c3de-468d-83ef-254eeeb7ea53",
   "metadata": {},
   "outputs": [
    {
     "data": {
      "text/html": [
       "<div>\n",
       "<style scoped>\n",
       "    .dataframe tbody tr th:only-of-type {\n",
       "        vertical-align: middle;\n",
       "    }\n",
       "\n",
       "    .dataframe tbody tr th {\n",
       "        vertical-align: top;\n",
       "    }\n",
       "\n",
       "    .dataframe thead th {\n",
       "        text-align: right;\n",
       "    }\n",
       "</style>\n",
       "<table border=\"1\" class=\"dataframe\">\n",
       "  <thead>\n",
       "    <tr style=\"text-align: right;\">\n",
       "      <th></th>\n",
       "      <th>Country</th>\n",
       "      <th>alpha 2_x</th>\n",
       "      <th>alpha 3</th>\n",
       "      <th>numeric</th>\n",
       "      <th>IOC</th>\n",
       "      <th>Fips 10</th>\n",
       "      <th>License Plate</th>\n",
       "      <th>Domain</th>\n",
       "      <th>Continent_Name</th>\n",
       "      <th>Continent_Code</th>\n",
       "      <th>Country_Name</th>\n",
       "      <th>alpha 2_y</th>\n",
       "      <th>Country_Number</th>\n",
       "    </tr>\n",
       "  </thead>\n",
       "  <tbody>\n",
       "    <tr>\n",
       "      <th>0</th>\n",
       "      <td>Afghanistan</td>\n",
       "      <td>AF</td>\n",
       "      <td>AFG</td>\n",
       "      <td>4</td>\n",
       "      <td>AFG</td>\n",
       "      <td>AF</td>\n",
       "      <td>AFG</td>\n",
       "      <td>.af</td>\n",
       "      <td>Asia</td>\n",
       "      <td>AS</td>\n",
       "      <td>Afghanistan, Islamic Republic of</td>\n",
       "      <td>AF</td>\n",
       "      <td>4.0</td>\n",
       "    </tr>\n",
       "    <tr>\n",
       "      <th>1</th>\n",
       "      <td>Åland Islands</td>\n",
       "      <td>AX</td>\n",
       "      <td>ALA</td>\n",
       "      <td>248</td>\n",
       "      <td>NaN</td>\n",
       "      <td>NaN</td>\n",
       "      <td>AX</td>\n",
       "      <td>.ax</td>\n",
       "      <td>Europe</td>\n",
       "      <td>EU</td>\n",
       "      <td>Åland Islands</td>\n",
       "      <td>AX</td>\n",
       "      <td>248.0</td>\n",
       "    </tr>\n",
       "    <tr>\n",
       "      <th>2</th>\n",
       "      <td>Albania</td>\n",
       "      <td>AL</td>\n",
       "      <td>ALB</td>\n",
       "      <td>8</td>\n",
       "      <td>ALB</td>\n",
       "      <td>AL</td>\n",
       "      <td>AL</td>\n",
       "      <td>.al</td>\n",
       "      <td>Europe</td>\n",
       "      <td>EU</td>\n",
       "      <td>Albania, Republic of</td>\n",
       "      <td>AL</td>\n",
       "      <td>8.0</td>\n",
       "    </tr>\n",
       "    <tr>\n",
       "      <th>3</th>\n",
       "      <td>Algeria</td>\n",
       "      <td>DZ</td>\n",
       "      <td>DZA</td>\n",
       "      <td>12</td>\n",
       "      <td>ALG</td>\n",
       "      <td>AG</td>\n",
       "      <td>DZ</td>\n",
       "      <td>.dz</td>\n",
       "      <td>Africa</td>\n",
       "      <td>AF</td>\n",
       "      <td>Algeria, People's Democratic Republic of</td>\n",
       "      <td>DZ</td>\n",
       "      <td>12.0</td>\n",
       "    </tr>\n",
       "    <tr>\n",
       "      <th>4</th>\n",
       "      <td>American Samoa</td>\n",
       "      <td>AS</td>\n",
       "      <td>ASM</td>\n",
       "      <td>16</td>\n",
       "      <td>ASA</td>\n",
       "      <td>AQ</td>\n",
       "      <td>USA</td>\n",
       "      <td>.as</td>\n",
       "      <td>Oceania</td>\n",
       "      <td>OC</td>\n",
       "      <td>American Samoa</td>\n",
       "      <td>AS</td>\n",
       "      <td>16.0</td>\n",
       "    </tr>\n",
       "  </tbody>\n",
       "</table>\n",
       "</div>"
      ],
      "text/plain": [
       "          Country alpha 2_x alpha 3  numeric  IOC Fips 10 License Plate  \\\n",
       "0     Afghanistan        AF     AFG        4  AFG      AF           AFG   \n",
       "1   Åland Islands        AX     ALA      248  NaN     NaN            AX   \n",
       "2         Albania        AL     ALB        8  ALB      AL            AL   \n",
       "3         Algeria        DZ     DZA       12  ALG      AG            DZ   \n",
       "4  American Samoa        AS     ASM       16  ASA      AQ           USA   \n",
       "\n",
       "  Domain Continent_Name Continent_Code  \\\n",
       "0    .af           Asia             AS   \n",
       "1    .ax         Europe             EU   \n",
       "2    .al         Europe             EU   \n",
       "3    .dz         Africa             AF   \n",
       "4    .as        Oceania             OC   \n",
       "\n",
       "                               Country_Name alpha 2_y  Country_Number  \n",
       "0          Afghanistan, Islamic Republic of        AF             4.0  \n",
       "1                             Åland Islands        AX           248.0  \n",
       "2                      Albania, Republic of        AL             8.0  \n",
       "3  Algeria, People's Democratic Republic of        DZ            12.0  \n",
       "4                            American Samoa        AS            16.0  "
      ]
     },
     "execution_count": 24,
     "metadata": {},
     "output_type": "execute_result"
    }
   ],
   "source": [
    "country_codes_df = iso_to_noc.merge(continents_df, on=\"alpha 3\", how=\"left\")\n",
    "country_codes_df.head()"
   ]
  },
  {
   "cell_type": "code",
   "execution_count": 25,
   "id": "8ae4f097-0224-4587-8d48-feba4fc8fc63",
   "metadata": {},
   "outputs": [],
   "source": [
    "country_codes_df.rename(columns={\"IOC\": \"NOC\"}, inplace=True)"
   ]
  },
  {
   "cell_type": "markdown",
   "id": "3365cd45-9e4e-4e5a-8cf4-802c48fbe8e7",
   "metadata": {},
   "source": [
    "### Final dataframe\n",
    "\n",
    "Just merge `countries_df` and `country_codes_df`, using `NOC` parameter"
   ]
  },
  {
   "cell_type": "code",
   "execution_count": 26,
   "id": "ee821b0c-d75e-49dc-b0ed-f818bf9b2a24",
   "metadata": {},
   "outputs": [
    {
     "data": {
      "text/html": [
       "<div>\n",
       "<style scoped>\n",
       "    .dataframe tbody tr th:only-of-type {\n",
       "        vertical-align: middle;\n",
       "    }\n",
       "\n",
       "    .dataframe tbody tr th {\n",
       "        vertical-align: top;\n",
       "    }\n",
       "\n",
       "    .dataframe thead th {\n",
       "        text-align: right;\n",
       "    }\n",
       "</style>\n",
       "<table border=\"1\" class=\"dataframe\">\n",
       "  <thead>\n",
       "    <tr style=\"text-align: right;\">\n",
       "      <th></th>\n",
       "      <th>ID</th>\n",
       "      <th>Name</th>\n",
       "      <th>Sex</th>\n",
       "      <th>Age</th>\n",
       "      <th>Height</th>\n",
       "      <th>Weight</th>\n",
       "      <th>Team</th>\n",
       "      <th>NOC</th>\n",
       "      <th>Games</th>\n",
       "      <th>Year</th>\n",
       "      <th>Season</th>\n",
       "      <th>City</th>\n",
       "      <th>Sport</th>\n",
       "      <th>Event</th>\n",
       "      <th>Medal</th>\n",
       "      <th>region</th>\n",
       "      <th>notes</th>\n",
       "      <th>alpha 3</th>\n",
       "      <th>Continent_Name</th>\n",
       "    </tr>\n",
       "  </thead>\n",
       "  <tbody>\n",
       "    <tr>\n",
       "      <th>0</th>\n",
       "      <td>5</td>\n",
       "      <td>Christine Jacoba Aaftink</td>\n",
       "      <td>F</td>\n",
       "      <td>21.0</td>\n",
       "      <td>185.0</td>\n",
       "      <td>82.0</td>\n",
       "      <td>Netherlands</td>\n",
       "      <td>NED</td>\n",
       "      <td>1988 Winter</td>\n",
       "      <td>1988</td>\n",
       "      <td>Winter</td>\n",
       "      <td>Calgary</td>\n",
       "      <td>Speed Skating</td>\n",
       "      <td>Speed Skating Women's 500 metres</td>\n",
       "      <td>NaN</td>\n",
       "      <td>Netherlands</td>\n",
       "      <td>NaN</td>\n",
       "      <td>NLD</td>\n",
       "      <td>Europe</td>\n",
       "    </tr>\n",
       "    <tr>\n",
       "      <th>1</th>\n",
       "      <td>5</td>\n",
       "      <td>Christine Jacoba Aaftink</td>\n",
       "      <td>F</td>\n",
       "      <td>21.0</td>\n",
       "      <td>185.0</td>\n",
       "      <td>82.0</td>\n",
       "      <td>Netherlands</td>\n",
       "      <td>NED</td>\n",
       "      <td>1988 Winter</td>\n",
       "      <td>1988</td>\n",
       "      <td>Winter</td>\n",
       "      <td>Calgary</td>\n",
       "      <td>Speed Skating</td>\n",
       "      <td>Speed Skating Women's 1,000 metres</td>\n",
       "      <td>NaN</td>\n",
       "      <td>Netherlands</td>\n",
       "      <td>NaN</td>\n",
       "      <td>NLD</td>\n",
       "      <td>Europe</td>\n",
       "    </tr>\n",
       "    <tr>\n",
       "      <th>2</th>\n",
       "      <td>5</td>\n",
       "      <td>Christine Jacoba Aaftink</td>\n",
       "      <td>F</td>\n",
       "      <td>25.0</td>\n",
       "      <td>185.0</td>\n",
       "      <td>82.0</td>\n",
       "      <td>Netherlands</td>\n",
       "      <td>NED</td>\n",
       "      <td>1992 Winter</td>\n",
       "      <td>1992</td>\n",
       "      <td>Winter</td>\n",
       "      <td>Albertville</td>\n",
       "      <td>Speed Skating</td>\n",
       "      <td>Speed Skating Women's 500 metres</td>\n",
       "      <td>NaN</td>\n",
       "      <td>Netherlands</td>\n",
       "      <td>NaN</td>\n",
       "      <td>NLD</td>\n",
       "      <td>Europe</td>\n",
       "    </tr>\n",
       "    <tr>\n",
       "      <th>3</th>\n",
       "      <td>5</td>\n",
       "      <td>Christine Jacoba Aaftink</td>\n",
       "      <td>F</td>\n",
       "      <td>25.0</td>\n",
       "      <td>185.0</td>\n",
       "      <td>82.0</td>\n",
       "      <td>Netherlands</td>\n",
       "      <td>NED</td>\n",
       "      <td>1992 Winter</td>\n",
       "      <td>1992</td>\n",
       "      <td>Winter</td>\n",
       "      <td>Albertville</td>\n",
       "      <td>Speed Skating</td>\n",
       "      <td>Speed Skating Women's 1,000 metres</td>\n",
       "      <td>NaN</td>\n",
       "      <td>Netherlands</td>\n",
       "      <td>NaN</td>\n",
       "      <td>NLD</td>\n",
       "      <td>Europe</td>\n",
       "    </tr>\n",
       "    <tr>\n",
       "      <th>4</th>\n",
       "      <td>5</td>\n",
       "      <td>Christine Jacoba Aaftink</td>\n",
       "      <td>F</td>\n",
       "      <td>27.0</td>\n",
       "      <td>185.0</td>\n",
       "      <td>82.0</td>\n",
       "      <td>Netherlands</td>\n",
       "      <td>NED</td>\n",
       "      <td>1994 Winter</td>\n",
       "      <td>1994</td>\n",
       "      <td>Winter</td>\n",
       "      <td>Lillehammer</td>\n",
       "      <td>Speed Skating</td>\n",
       "      <td>Speed Skating Women's 500 metres</td>\n",
       "      <td>NaN</td>\n",
       "      <td>Netherlands</td>\n",
       "      <td>NaN</td>\n",
       "      <td>NLD</td>\n",
       "      <td>Europe</td>\n",
       "    </tr>\n",
       "  </tbody>\n",
       "</table>\n",
       "</div>"
      ],
      "text/plain": [
       "   ID                      Name Sex   Age  Height  Weight         Team  NOC  \\\n",
       "0   5  Christine Jacoba Aaftink   F  21.0   185.0    82.0  Netherlands  NED   \n",
       "1   5  Christine Jacoba Aaftink   F  21.0   185.0    82.0  Netherlands  NED   \n",
       "2   5  Christine Jacoba Aaftink   F  25.0   185.0    82.0  Netherlands  NED   \n",
       "3   5  Christine Jacoba Aaftink   F  25.0   185.0    82.0  Netherlands  NED   \n",
       "4   5  Christine Jacoba Aaftink   F  27.0   185.0    82.0  Netherlands  NED   \n",
       "\n",
       "         Games  Year  Season         City          Sport  \\\n",
       "0  1988 Winter  1988  Winter      Calgary  Speed Skating   \n",
       "1  1988 Winter  1988  Winter      Calgary  Speed Skating   \n",
       "2  1992 Winter  1992  Winter  Albertville  Speed Skating   \n",
       "3  1992 Winter  1992  Winter  Albertville  Speed Skating   \n",
       "4  1994 Winter  1994  Winter  Lillehammer  Speed Skating   \n",
       "\n",
       "                                Event Medal       region notes alpha 3  \\\n",
       "0    Speed Skating Women's 500 metres   NaN  Netherlands   NaN     NLD   \n",
       "1  Speed Skating Women's 1,000 metres   NaN  Netherlands   NaN     NLD   \n",
       "2    Speed Skating Women's 500 metres   NaN  Netherlands   NaN     NLD   \n",
       "3  Speed Skating Women's 1,000 metres   NaN  Netherlands   NaN     NLD   \n",
       "4    Speed Skating Women's 500 metres   NaN  Netherlands   NaN     NLD   \n",
       "\n",
       "  Continent_Name  \n",
       "0         Europe  \n",
       "1         Europe  \n",
       "2         Europe  \n",
       "3         Europe  \n",
       "4         Europe  "
      ]
     },
     "execution_count": 26,
     "metadata": {},
     "output_type": "execute_result"
    }
   ],
   "source": [
    "df = merged_df.merge(country_codes_df[[\"NOC\", \"alpha 3\", \"Continent_Name\"]], on=\"NOC\", how=\"left\")\n",
    "df.head()"
   ]
  },
  {
   "cell_type": "code",
   "execution_count": 27,
   "id": "8397cc23-d757-4af0-bc02-a651550d9e17",
   "metadata": {},
   "outputs": [
    {
     "data": {
      "text/plain": [
       "ID                    0\n",
       "Name                  0\n",
       "Sex                   0\n",
       "Age                 289\n",
       "Height             8465\n",
       "Weight             9201\n",
       "Team                  0\n",
       "NOC                   0\n",
       "Games                 0\n",
       "Year                  0\n",
       "Season                0\n",
       "City                  0\n",
       "Sport                 0\n",
       "Event                 0\n",
       "Medal             45089\n",
       "region                0\n",
       "notes             50413\n",
       "alpha 3            4265\n",
       "Continent_Name     4265\n",
       "dtype: int64"
      ]
     },
     "execution_count": 27,
     "metadata": {},
     "output_type": "execute_result"
    }
   ],
   "source": [
    "df.isna().sum()"
   ]
  },
  {
   "cell_type": "markdown",
   "id": "0f24a47a-cf14-4626-99fe-3bd0de818652",
   "metadata": {},
   "source": [
    "## 3. Exploratory Data Analysis (EDA) and Vizualization"
   ]
  },
  {
   "cell_type": "markdown",
   "id": "1724f91c-9bad-4005-b781-3a4acfb9d76d",
   "metadata": {},
   "source": [
    "How many countries participated in the Winter Olympic Games"
   ]
  },
  {
   "cell_type": "code",
   "execution_count": 28,
   "id": "c11e4b04-9903-4ba1-bc11-592967f72f6e",
   "metadata": {},
   "outputs": [
    {
     "name": "stdout",
     "output_type": "stream",
     "text": [
      "There have been 111 nations that have ever competed in the Winter Olympics\n"
     ]
    }
   ],
   "source": [
    "print(f\"There have been {df['region'].nunique()} nations that have ever competed in the Winter Olympics\")"
   ]
  },
  {
   "cell_type": "markdown",
   "id": "c63aa37a-41fb-4d12-986d-5e940d5c1802",
   "metadata": {},
   "source": [
    "The top 10 nations with the maximum number of athletes"
   ]
  },
  {
   "cell_type": "code",
   "execution_count": 29,
   "id": "1ca42e8d-1337-4a68-abd9-f76b01f85b61",
   "metadata": {},
   "outputs": [
    {
     "data": {
      "image/png": "[encoded data removed]",
      "text/plain": [
       "<Figure size 640x480 with 1 Axes>"
      ]
     },
     "metadata": {},
     "output_type": "display_data"
    }
   ],
   "source": [
    "athletes_each_country = df.drop_duplicates([\"Name\"]).groupby([\"region\"])[\"Name\"].count()\n",
    "athletes_each_country = athletes_each_country.sort_values(ascending=False)\n",
    "\n",
    "sns.barplot(athletes_each_country.head(10))\n",
    "plt.title(\"Top 10 countries with the most athletes\")\n",
    "plt.xticks(rotation=90)\n",
    "plt.xlabel(\"Country\")\n",
    "plt.ylabel(\"Number of athletes\")\n",
    "plt.show()"
   ]
  },
  {
   "cell_type": "markdown",
   "id": "59fea523-04ff-497f-b2da-eef868340c4e",
   "metadata": {},
   "source": [
    "The bar chart shows that, at about 1 700, the majority of athletes were from the United States, with the remaining athletes coming from Canada and European nations."
   ]
  },
  {
   "cell_type": "markdown",
   "id": "54d5c0d4-d763-4c2c-94f2-67652adb5bf7",
   "metadata": {},
   "source": [
    "Let’s take a look at the same number of each continent"
   ]
  },
  {
   "cell_type": "code",
   "execution_count": 30,
   "id": "dc85e352-2416-4af2-a381-8db394174c63",
   "metadata": {},
   "outputs": [
    {
     "data": {
      "image/png": "[encoded data removed]",
      "text/plain": [
       "<Figure size 640x480 with 1 Axes>"
      ]
     },
     "metadata": {},
     "output_type": "display_data"
    }
   ],
   "source": [
    "athletes_each_continent = df.drop_duplicates([\"Name\"]).groupby([\"Continent_Name\"])[\"Name\"].count()\n",
    "athletes_each_continent = athletes_each_continent.sort_values(ascending=False)\n",
    "\n",
    "sns.barplot(athletes_each_continent)\n",
    "plt.title(\"Top 10 continents with the most athletes\")\n",
    "plt.xticks(rotation=90)\n",
    "plt.xlabel(\"Continent\")\n",
    "plt.ylabel(\"Number of athletes\")\n",
    "plt.show()"
   ]
  },
  {
   "cell_type": "markdown",
   "id": "c9884996-c17f-44fc-94f4-64876a3b8681",
   "metadata": {},
   "source": [
    "8 of 10 nations in the previous graphic, ranked by the amount of athletes, from Europe. Consequently, the European continent is clearly popular in this histogram (3 times more athletes compared to second place)"
   ]
  },
  {
   "cell_type": "markdown",
   "id": "59988e3b-cbf1-4424-bb09-7985b42e8287",
   "metadata": {},
   "source": [
    "Now, let’s compare the number of medals of each country. Let's consider only the top 10 countries by number of all medals"
   ]
  },
  {
   "cell_type": "code",
   "execution_count": 31,
   "id": "0624887a-a043-41d7-baf1-3d8924dc0ac0",
   "metadata": {},
   "outputs": [],
   "source": [
    "medals_df = pd.crosstab(df[\"region\"], df[\"Medal\"])\n",
    "\n",
    "# Reorder columns\n",
    "medals_df = medals_df[['Gold', 'Silver', 'Bronze']]"
   ]
  },
  {
   "cell_type": "code",
   "execution_count": 32,
   "id": "cb27b716-4861-439b-bfff-72214b8aa599",
   "metadata": {},
   "outputs": [],
   "source": [
    "medals_df_1 = medals_df.copy()\n",
    "medals_df_1[\"All\"] = medals_df.sum(axis=1)\n",
    "medals_df_1 = medals_df_1.sort_values(by=\"All\", ascending=False)"
   ]
  },
  {
   "cell_type": "code",
   "execution_count": 33,
   "id": "fe4cfa37-e1d6-4679-8ce4-2551e9dffb78",
   "metadata": {},
   "outputs": [
    {
     "data": {
      "image/png": "[encoded data removed]",
      "text/plain": [
       "<Figure size 640x480 with 1 Axes>"
      ]
     },
     "metadata": {},
     "output_type": "display_data"
    }
   ],
   "source": [
    "ax = sns.barplot(data=medals_df_1.head(10), x='region', y='All')\n",
    "ax.bar_label(ax.containers[0], fontsize=10);\n",
    "\n",
    "plt.title('Number of medals for each country')\n",
    "plt.xlabel('Nation')\n",
    "plt.ylabel('Number of medals')\n",
    "plt.xticks(rotation=90)\n",
    "\n",
    "plt.show()"
   ]
  },
  {
   "cell_type": "markdown",
   "id": "86181926-2838-4754-84ed-b687e632668b",
   "metadata": {},
   "source": [
    "As we can see, Russia leads the field in terms of total medals won in the Winter Olympic Games' entire history. The USA, Germany, and Canada national teams, in that order, still hold the first four places (about 600 medals). Scandinavian countries Norway, Sweden, Finland hold 5-7 places with average \n",
    "Once again, European nations have leadership."
   ]
  },
  {
   "cell_type": "markdown",
   "id": "905e4835-3c1a-4d42-b6a2-bb8cf9785087",
   "metadata": {},
   "source": [
    "Let's look at the top 10 nations by types of medals. Sorted by gold"
   ]
  },
  {
   "cell_type": "code",
   "execution_count": 34,
   "id": "dc70790f-dce2-4e34-a823-2cbf3ba786f1",
   "metadata": {},
   "outputs": [],
   "source": [
    "medals_df_2 = medals_df.copy()\n",
    "medals_df_2 = medals_df_2.sort_values(by=\"Gold\", ascending=False)"
   ]
  },
  {
   "cell_type": "code",
   "execution_count": 35,
   "id": "b5cc2921-9d14-4a48-b6bf-8c428a34949f",
   "metadata": {},
   "outputs": [],
   "source": [
    "medals_df_melted = medals_df_2.head(10).reset_index().melt(id_vars=\"region\")"
   ]
  },
  {
   "cell_type": "code",
   "execution_count": 36,
   "id": "86ff6f20-eebc-4d01-9435-59bd936ec429",
   "metadata": {},
   "outputs": [
    {
     "data": {
      "image/png": "[encoded data removed]",
      "text/plain": [
       "<Figure size 1200x600 with 1 Axes>"
      ]
     },
     "metadata": {},
     "output_type": "display_data"
    }
   ],
   "source": [
    "plt.figure(figsize=(12, 6))\n",
    "\n",
    "sns.barplot(data=medals_df_melted, x='region', y='value', hue='Medal', palette=['#FFD700', '#C0C0C0', '#CD7F32'])\n",
    "\n",
    "plt.title('Number of gold medals for each country ')\n",
    "plt.xlabel('Nation')\n",
    "plt.ylabel('Number of medals')\n",
    "plt.legend(title='Type of medal')\n",
    "plt.xticks(rotation=90)\n",
    "\n",
    "plt.show()"
   ]
  },
  {
   "cell_type": "markdown",
   "id": "922e6383-c4ee-4ec7-aa7c-9b3fbbed5d89",
   "metadata": {},
   "source": [
    "Russia is also a clear leader here"
   ]
  },
  {
   "cell_type": "code",
   "execution_count": 37,
   "id": "68d40242",
   "metadata": {},
   "outputs": [
    {
     "data": {
      "text/html": [
       "<div>\n",
       "<style scoped>\n",
       "    .dataframe tbody tr th:only-of-type {\n",
       "        vertical-align: middle;\n",
       "    }\n",
       "\n",
       "    .dataframe tbody tr th {\n",
       "        vertical-align: top;\n",
       "    }\n",
       "\n",
       "    .dataframe thead th {\n",
       "        text-align: right;\n",
       "    }\n",
       "</style>\n",
       "<table border=\"1\" class=\"dataframe\">\n",
       "  <thead>\n",
       "    <tr style=\"text-align: right;\">\n",
       "      <th></th>\n",
       "      <th>ID</th>\n",
       "      <th>Name</th>\n",
       "      <th>Sex</th>\n",
       "      <th>Age</th>\n",
       "      <th>Height</th>\n",
       "      <th>Weight</th>\n",
       "      <th>Team</th>\n",
       "      <th>NOC</th>\n",
       "      <th>Games</th>\n",
       "      <th>Year</th>\n",
       "      <th>Season</th>\n",
       "      <th>City</th>\n",
       "      <th>Sport</th>\n",
       "      <th>Event</th>\n",
       "      <th>Medal</th>\n",
       "      <th>region</th>\n",
       "      <th>notes</th>\n",
       "      <th>alpha 3</th>\n",
       "      <th>Continent_Name</th>\n",
       "    </tr>\n",
       "  </thead>\n",
       "  <tbody>\n",
       "    <tr>\n",
       "      <th>0</th>\n",
       "      <td>5</td>\n",
       "      <td>Christine Jacoba Aaftink</td>\n",
       "      <td>F</td>\n",
       "      <td>21.0</td>\n",
       "      <td>185.0</td>\n",
       "      <td>82.0</td>\n",
       "      <td>Netherlands</td>\n",
       "      <td>NED</td>\n",
       "      <td>1988 Winter</td>\n",
       "      <td>1988</td>\n",
       "      <td>Winter</td>\n",
       "      <td>Calgary</td>\n",
       "      <td>Speed Skating</td>\n",
       "      <td>Speed Skating Women's 500 metres</td>\n",
       "      <td>NaN</td>\n",
       "      <td>Netherlands</td>\n",
       "      <td>NaN</td>\n",
       "      <td>NLD</td>\n",
       "      <td>Europe</td>\n",
       "    </tr>\n",
       "    <tr>\n",
       "      <th>1</th>\n",
       "      <td>5</td>\n",
       "      <td>Christine Jacoba Aaftink</td>\n",
       "      <td>F</td>\n",
       "      <td>21.0</td>\n",
       "      <td>185.0</td>\n",
       "      <td>82.0</td>\n",
       "      <td>Netherlands</td>\n",
       "      <td>NED</td>\n",
       "      <td>1988 Winter</td>\n",
       "      <td>1988</td>\n",
       "      <td>Winter</td>\n",
       "      <td>Calgary</td>\n",
       "      <td>Speed Skating</td>\n",
       "      <td>Speed Skating Women's 1,000 metres</td>\n",
       "      <td>NaN</td>\n",
       "      <td>Netherlands</td>\n",
       "      <td>NaN</td>\n",
       "      <td>NLD</td>\n",
       "      <td>Europe</td>\n",
       "    </tr>\n",
       "    <tr>\n",
       "      <th>2</th>\n",
       "      <td>5</td>\n",
       "      <td>Christine Jacoba Aaftink</td>\n",
       "      <td>F</td>\n",
       "      <td>25.0</td>\n",
       "      <td>185.0</td>\n",
       "      <td>82.0</td>\n",
       "      <td>Netherlands</td>\n",
       "      <td>NED</td>\n",
       "      <td>1992 Winter</td>\n",
       "      <td>1992</td>\n",
       "      <td>Winter</td>\n",
       "      <td>Albertville</td>\n",
       "      <td>Speed Skating</td>\n",
       "      <td>Speed Skating Women's 500 metres</td>\n",
       "      <td>NaN</td>\n",
       "      <td>Netherlands</td>\n",
       "      <td>NaN</td>\n",
       "      <td>NLD</td>\n",
       "      <td>Europe</td>\n",
       "    </tr>\n",
       "    <tr>\n",
       "      <th>3</th>\n",
       "      <td>5</td>\n",
       "      <td>Christine Jacoba Aaftink</td>\n",
       "      <td>F</td>\n",
       "      <td>25.0</td>\n",
       "      <td>185.0</td>\n",
       "      <td>82.0</td>\n",
       "      <td>Netherlands</td>\n",
       "      <td>NED</td>\n",
       "      <td>1992 Winter</td>\n",
       "      <td>1992</td>\n",
       "      <td>Winter</td>\n",
       "      <td>Albertville</td>\n",
       "      <td>Speed Skating</td>\n",
       "      <td>Speed Skating Women's 1,000 metres</td>\n",
       "      <td>NaN</td>\n",
       "      <td>Netherlands</td>\n",
       "      <td>NaN</td>\n",
       "      <td>NLD</td>\n",
       "      <td>Europe</td>\n",
       "    </tr>\n",
       "    <tr>\n",
       "      <th>4</th>\n",
       "      <td>5</td>\n",
       "      <td>Christine Jacoba Aaftink</td>\n",
       "      <td>F</td>\n",
       "      <td>27.0</td>\n",
       "      <td>185.0</td>\n",
       "      <td>82.0</td>\n",
       "      <td>Netherlands</td>\n",
       "      <td>NED</td>\n",
       "      <td>1994 Winter</td>\n",
       "      <td>1994</td>\n",
       "      <td>Winter</td>\n",
       "      <td>Lillehammer</td>\n",
       "      <td>Speed Skating</td>\n",
       "      <td>Speed Skating Women's 500 metres</td>\n",
       "      <td>NaN</td>\n",
       "      <td>Netherlands</td>\n",
       "      <td>NaN</td>\n",
       "      <td>NLD</td>\n",
       "      <td>Europe</td>\n",
       "    </tr>\n",
       "  </tbody>\n",
       "</table>\n",
       "</div>"
      ],
      "text/plain": [
       "   ID                      Name Sex   Age  Height  Weight         Team  NOC  \\\n",
       "0   5  Christine Jacoba Aaftink   F  21.0   185.0    82.0  Netherlands  NED   \n",
       "1   5  Christine Jacoba Aaftink   F  21.0   185.0    82.0  Netherlands  NED   \n",
       "2   5  Christine Jacoba Aaftink   F  25.0   185.0    82.0  Netherlands  NED   \n",
       "3   5  Christine Jacoba Aaftink   F  25.0   185.0    82.0  Netherlands  NED   \n",
       "4   5  Christine Jacoba Aaftink   F  27.0   185.0    82.0  Netherlands  NED   \n",
       "\n",
       "         Games  Year  Season         City          Sport  \\\n",
       "0  1988 Winter  1988  Winter      Calgary  Speed Skating   \n",
       "1  1988 Winter  1988  Winter      Calgary  Speed Skating   \n",
       "2  1992 Winter  1992  Winter  Albertville  Speed Skating   \n",
       "3  1992 Winter  1992  Winter  Albertville  Speed Skating   \n",
       "4  1994 Winter  1994  Winter  Lillehammer  Speed Skating   \n",
       "\n",
       "                                Event Medal       region notes alpha 3  \\\n",
       "0    Speed Skating Women's 500 metres   NaN  Netherlands   NaN     NLD   \n",
       "1  Speed Skating Women's 1,000 metres   NaN  Netherlands   NaN     NLD   \n",
       "2    Speed Skating Women's 500 metres   NaN  Netherlands   NaN     NLD   \n",
       "3  Speed Skating Women's 1,000 metres   NaN  Netherlands   NaN     NLD   \n",
       "4    Speed Skating Women's 500 metres   NaN  Netherlands   NaN     NLD   \n",
       "\n",
       "  Continent_Name  \n",
       "0         Europe  \n",
       "1         Europe  \n",
       "2         Europe  \n",
       "3         Europe  \n",
       "4         Europe  "
      ]
     },
     "execution_count": 37,
     "metadata": {},
     "output_type": "execute_result"
    }
   ],
   "source": [
    "df.head()"
   ]
  },
  {
   "cell_type": "markdown",
   "id": "db82aaf4",
   "metadata": {},
   "source": [
    "Let’s start with the trends of the number of athletes participated in Olympics"
   ]
  },
  {
   "cell_type": "code",
   "execution_count": 38,
   "id": "c84c0127",
   "metadata": {},
   "outputs": [],
   "source": [
    "athletes_by_year = df.drop_duplicates([\"Name\", \"Year\"])\n",
    "athletes_by_year_grouped = athletes_by_year.groupby(\"Year\")[\"Name\"].count()"
   ]
  },
  {
   "cell_type": "code",
   "execution_count": 39,
   "id": "0f82c3fb",
   "metadata": {},
   "outputs": [
    {
     "data": {
      "image/png": "[encoded data removed]",
      "text/plain": [
       "<Figure size 640x480 with 1 Axes>"
      ]
     },
     "metadata": {},
     "output_type": "display_data"
    }
   ],
   "source": [
    "sns.lineplot(data=athletes_by_year_grouped, marker=\"o\")\n",
    "plt.title('The number of participating athletes per year')\n",
    "plt.xlabel('Year')\n",
    "plt.ylabel('Athletes')\n",
    "\n",
    "plt.show()"
   ]
  },
  {
   "cell_type": "markdown",
   "id": "afd21f7e",
   "metadata": {},
   "source": [
    "Next, look at the number of countries participated over years"
   ]
  },
  {
   "cell_type": "code",
   "execution_count": 40,
   "id": "a1e85395",
   "metadata": {},
   "outputs": [],
   "source": [
    "countries_by_year = df.drop_duplicates([\"region\", \"Year\"])\n",
    "countries_by_year_grouped = countries_by_year.groupby(\"Year\")[\"region\"].count()"
   ]
  },
  {
   "cell_type": "code",
   "execution_count": 41,
   "id": "7047a5e1",
   "metadata": {},
   "outputs": [
    {
     "data": {
      "image/png": "[encoded data removed]",
      "text/plain": [
       "<Figure size 640x480 with 1 Axes>"
      ]
     },
     "metadata": {},
     "output_type": "display_data"
    }
   ],
   "source": [
    "sns.lineplot(data=countries_by_year_grouped, marker=\"o\")\n",
    "plt.title('Number of participating national teams')\n",
    "plt.xlabel('Year')\n",
    "plt.ylabel('Country')\n",
    "\n",
    "plt.show()"
   ]
  },
  {
   "cell_type": "markdown",
   "id": "49ed0c2c",
   "metadata": {},
   "source": [
    "Statistics for athletes"
   ]
  },
  {
   "cell_type": "code",
   "execution_count": 42,
   "id": "b48ca7ec",
   "metadata": {},
   "outputs": [],
   "source": [
    "athletes = df.drop_duplicates([\"Name\", \"Games\", \"Event\"])\n",
    "\n",
    "# Create DataFrame with unique athletes\n",
    "unique_athletes = df.drop_duplicates([\"Name\", \"Sex\"])\n",
    "unique_athletes = unique_athletes.drop(['Games', 'Year', 'Season', 'City', 'Event', 'Medal', 'region', 'notes'], axis=1)\n",
    "\n",
    "athletes_medals = pd.crosstab(athletes[\"Name\"], athletes[\"Medal\"])[[\"Gold\", \"Silver\", \"Bronze\"]]\n",
    "\n",
    "# Add 'Sex' column\n",
    "athletes_medals = pd.merge(athletes_medals, unique_athletes[[\"Name\", \"Sex\"]], on=\"Name\", how=\"left\")\n",
    "\n",
    "# Sorting by Gold, Silver and Bronze\n",
    "athletes_medals = athletes_medals.sort_values(by=[\"Gold\", \"Silver\", \"Bronze\"], ascending=False)"
   ]
  },
  {
   "cell_type": "code",
   "execution_count": 43,
   "id": "110db60d",
   "metadata": {},
   "outputs": [
    {
     "data": {
      "text/html": [
       "<div>\n",
       "<style scoped>\n",
       "    .dataframe tbody tr th:only-of-type {\n",
       "        vertical-align: middle;\n",
       "    }\n",
       "\n",
       "    .dataframe tbody tr th {\n",
       "        vertical-align: top;\n",
       "    }\n",
       "\n",
       "    .dataframe thead th {\n",
       "        text-align: right;\n",
       "    }\n",
       "</style>\n",
       "<table border=\"1\" class=\"dataframe\">\n",
       "  <thead>\n",
       "    <tr style=\"text-align: right;\">\n",
       "      <th></th>\n",
       "      <th>Name</th>\n",
       "      <th>Gold</th>\n",
       "      <th>Silver</th>\n",
       "      <th>Bronze</th>\n",
       "      <th>Sex</th>\n",
       "    </tr>\n",
       "  </thead>\n",
       "  <tbody>\n",
       "    <tr>\n",
       "      <th>2518</th>\n",
       "      <td>Ole Einar Bjrndalen</td>\n",
       "      <td>8</td>\n",
       "      <td>4</td>\n",
       "      <td>1</td>\n",
       "      <td>M</td>\n",
       "    </tr>\n",
       "    <tr>\n",
       "      <th>2189</th>\n",
       "      <td>Marit Bjrgen</td>\n",
       "      <td>6</td>\n",
       "      <td>3</td>\n",
       "      <td>1</td>\n",
       "      <td>F</td>\n",
       "    </tr>\n",
       "    <tr>\n",
       "      <th>2085</th>\n",
       "      <td>Lyubov Ivanovna Yegorova</td>\n",
       "      <td>6</td>\n",
       "      <td>3</td>\n",
       "      <td>0</td>\n",
       "      <td>F</td>\n",
       "    </tr>\n",
       "    <tr>\n",
       "      <th>3399</th>\n",
       "      <td>Viktor An</td>\n",
       "      <td>6</td>\n",
       "      <td>0</td>\n",
       "      <td>2</td>\n",
       "      <td>M</td>\n",
       "    </tr>\n",
       "    <tr>\n",
       "      <th>2028</th>\n",
       "      <td>Lidiya Pavlovna Skoblikova (-Polozkova)</td>\n",
       "      <td>6</td>\n",
       "      <td>0</td>\n",
       "      <td>0</td>\n",
       "      <td>F</td>\n",
       "    </tr>\n",
       "    <tr>\n",
       "      <th>...</th>\n",
       "      <td>...</td>\n",
       "      <td>...</td>\n",
       "      <td>...</td>\n",
       "      <td>...</td>\n",
       "      <td>...</td>\n",
       "    </tr>\n",
       "    <tr>\n",
       "      <th>3670</th>\n",
       "      <td>l Mats Arne Larsson</td>\n",
       "      <td>0</td>\n",
       "      <td>0</td>\n",
       "      <td>1</td>\n",
       "      <td>M</td>\n",
       "    </tr>\n",
       "    <tr>\n",
       "      <th>3671</th>\n",
       "      <td>mile Allais</td>\n",
       "      <td>0</td>\n",
       "      <td>0</td>\n",
       "      <td>1</td>\n",
       "      <td>M</td>\n",
       "    </tr>\n",
       "    <tr>\n",
       "      <th>3673</th>\n",
       "      <td>ric Le Chanony</td>\n",
       "      <td>0</td>\n",
       "      <td>0</td>\n",
       "      <td>1</td>\n",
       "      <td>M</td>\n",
       "    </tr>\n",
       "    <tr>\n",
       "      <th>3674</th>\n",
       "      <td>rka Zhrobsk-Strachov</td>\n",
       "      <td>0</td>\n",
       "      <td>0</td>\n",
       "      <td>1</td>\n",
       "      <td>F</td>\n",
       "    </tr>\n",
       "    <tr>\n",
       "      <th>3675</th>\n",
       "      <td>sa Annelie Charlotte \"Lotta\" Almblad (-Lindefors)</td>\n",
       "      <td>0</td>\n",
       "      <td>0</td>\n",
       "      <td>1</td>\n",
       "      <td>F</td>\n",
       "    </tr>\n",
       "  </tbody>\n",
       "</table>\n",
       "<p>3677 rows × 5 columns</p>\n",
       "</div>"
      ],
      "text/plain": [
       "                                                   Name  Gold  Silver  Bronze  \\\n",
       "2518                                Ole Einar Bjrndalen     8       4       1   \n",
       "2189                                       Marit Bjrgen     6       3       1   \n",
       "2085                           Lyubov Ivanovna Yegorova     6       3       0   \n",
       "3399                                          Viktor An     6       0       2   \n",
       "2028            Lidiya Pavlovna Skoblikova (-Polozkova)     6       0       0   \n",
       "...                                                 ...   ...     ...     ...   \n",
       "3670                                l Mats Arne Larsson     0       0       1   \n",
       "3671                                        mile Allais     0       0       1   \n",
       "3673                                     ric Le Chanony     0       0       1   \n",
       "3674                               rka Zhrobsk-Strachov     0       0       1   \n",
       "3675  sa Annelie Charlotte \"Lotta\" Almblad (-Lindefors)     0       0       1   \n",
       "\n",
       "     Sex  \n",
       "2518   M  \n",
       "2189   F  \n",
       "2085   F  \n",
       "3399   M  \n",
       "2028   F  \n",
       "...   ..  \n",
       "3670   M  \n",
       "3671   M  \n",
       "3673   M  \n",
       "3674   F  \n",
       "3675   F  \n",
       "\n",
       "[3677 rows x 5 columns]"
      ]
     },
     "execution_count": 43,
     "metadata": {},
     "output_type": "execute_result"
    }
   ],
   "source": [
    "athletes_medals"
   ]
  },
  {
   "cell_type": "code",
   "execution_count": 44,
   "id": "27dd00d5",
   "metadata": {},
   "outputs": [
    {
     "data": {
      "image/png": "[encoded data removed]",
      "text/plain": [
       "<Figure size 1800x600 with 2 Axes>"
      ]
     },
     "metadata": {},
     "output_type": "display_data"
    }
   ],
   "source": [
    "# Filter data for male and female athletes and select the top 10 for each\n",
    "top_male_athletes = athletes_medals[athletes_medals[\"Sex\"] == \"M\"].head(10)\n",
    "top_female_athletes = athletes_medals[athletes_medals[\"Sex\"] == \"F\"].head(10)\n",
    "\n",
    "fig, axes = plt.subplots(1, 2, figsize=(18, 6))\n",
    "\n",
    "sns.barplot(data=top_male_athletes, y=\"Name\", x=\"Gold\", color=\"#2596be\", ax=axes[0])\n",
    "axes[0].set_title(\"Top Male Olympic Medalists (Gold Medals)\")\n",
    "axes[0].set_xlabel(\"Gold Medals\")\n",
    "axes[0].set_ylabel(\"Athlete\")\n",
    "\n",
    "sns.barplot(data=top_female_athletes, y=\"Name\", x=\"Gold\", color=\"#be4d25\", ax=axes[1])\n",
    "axes[1].set_title(\"Top Female Olympic Medalists (Gold Medals)\")\n",
    "axes[1].set_xlabel(\"Gold Medals\")\n",
    "axes[1].set_ylabel(\"Athlete\")\n",
    "\n",
    "plt.tight_layout()\n",
    "plt.show()"
   ]
  },
  {
   "cell_type": "markdown",
   "id": "8a9901d7",
   "metadata": {},
   "source": [
    "Where is Bjorn Daehlie?"
   ]
  },
  {
   "cell_type": "code",
   "execution_count": 45,
   "id": "2a6c01e1",
   "metadata": {},
   "outputs": [
    {
     "data": {
      "text/html": [
       "<div>\n",
       "<style scoped>\n",
       "    .dataframe tbody tr th:only-of-type {\n",
       "        vertical-align: middle;\n",
       "    }\n",
       "\n",
       "    .dataframe tbody tr th {\n",
       "        vertical-align: top;\n",
       "    }\n",
       "\n",
       "    .dataframe thead th {\n",
       "        text-align: right;\n",
       "    }\n",
       "</style>\n",
       "<table border=\"1\" class=\"dataframe\">\n",
       "  <thead>\n",
       "    <tr style=\"text-align: right;\">\n",
       "      <th></th>\n",
       "      <th>ID</th>\n",
       "      <th>Name</th>\n",
       "      <th>Sex</th>\n",
       "      <th>Age</th>\n",
       "      <th>Height</th>\n",
       "      <th>Weight</th>\n",
       "      <th>Team</th>\n",
       "      <th>NOC</th>\n",
       "      <th>Games</th>\n",
       "      <th>Year</th>\n",
       "      <th>Season</th>\n",
       "      <th>City</th>\n",
       "      <th>Sport</th>\n",
       "      <th>Event</th>\n",
       "      <th>Medal</th>\n",
       "      <th>region</th>\n",
       "      <th>notes</th>\n",
       "      <th>alpha 3</th>\n",
       "      <th>Continent_Name</th>\n",
       "    </tr>\n",
       "  </thead>\n",
       "  <tbody>\n",
       "    <tr>\n",
       "      <th>24950</th>\n",
       "      <td>66496</td>\n",
       "      <td>Terje Bjarte Langli</td>\n",
       "      <td>M</td>\n",
       "      <td>27.0</td>\n",
       "      <td>178.0</td>\n",
       "      <td>74.0</td>\n",
       "      <td>Norway</td>\n",
       "      <td>NOR</td>\n",
       "      <td>1992 Winter</td>\n",
       "      <td>1992</td>\n",
       "      <td>Winter</td>\n",
       "      <td>Albertville</td>\n",
       "      <td>Cross Country Skiing</td>\n",
       "      <td>Cross Country Skiing Men's 4 x 10 kilometres R...</td>\n",
       "      <td>Gold</td>\n",
       "      <td>Norway</td>\n",
       "      <td>NaN</td>\n",
       "      <td>NOR</td>\n",
       "      <td>Europe</td>\n",
       "    </tr>\n",
       "    <tr>\n",
       "      <th>41530</th>\n",
       "      <td>111678</td>\n",
       "      <td>Kristen Skjeldal</td>\n",
       "      <td>M</td>\n",
       "      <td>24.0</td>\n",
       "      <td>175.0</td>\n",
       "      <td>70.0</td>\n",
       "      <td>Norway</td>\n",
       "      <td>NOR</td>\n",
       "      <td>1992 Winter</td>\n",
       "      <td>1992</td>\n",
       "      <td>Winter</td>\n",
       "      <td>Albertville</td>\n",
       "      <td>Cross Country Skiing</td>\n",
       "      <td>Cross Country Skiing Men's 4 x 10 kilometres R...</td>\n",
       "      <td>Gold</td>\n",
       "      <td>Norway</td>\n",
       "      <td>NaN</td>\n",
       "      <td>NOR</td>\n",
       "      <td>Europe</td>\n",
       "    </tr>\n",
       "    <tr>\n",
       "      <th>46198</th>\n",
       "      <td>123284</td>\n",
       "      <td>Vegard Ulvang</td>\n",
       "      <td>M</td>\n",
       "      <td>28.0</td>\n",
       "      <td>180.0</td>\n",
       "      <td>73.0</td>\n",
       "      <td>Norway</td>\n",
       "      <td>NOR</td>\n",
       "      <td>1992 Winter</td>\n",
       "      <td>1992</td>\n",
       "      <td>Winter</td>\n",
       "      <td>Albertville</td>\n",
       "      <td>Cross Country Skiing</td>\n",
       "      <td>Cross Country Skiing Men's 4 x 10 kilometres R...</td>\n",
       "      <td>Gold</td>\n",
       "      <td>Norway</td>\n",
       "      <td>NaN</td>\n",
       "      <td>NOR</td>\n",
       "      <td>Europe</td>\n",
       "    </tr>\n",
       "  </tbody>\n",
       "</table>\n",
       "</div>"
      ],
      "text/plain": [
       "           ID                 Name Sex   Age  Height  Weight    Team  NOC  \\\n",
       "24950   66496  Terje Bjarte Langli   M  27.0   178.0    74.0  Norway  NOR   \n",
       "41530  111678     Kristen Skjeldal   M  24.0   175.0    70.0  Norway  NOR   \n",
       "46198  123284        Vegard Ulvang   M  28.0   180.0    73.0  Norway  NOR   \n",
       "\n",
       "             Games  Year  Season         City                 Sport  \\\n",
       "24950  1992 Winter  1992  Winter  Albertville  Cross Country Skiing   \n",
       "41530  1992 Winter  1992  Winter  Albertville  Cross Country Skiing   \n",
       "46198  1992 Winter  1992  Winter  Albertville  Cross Country Skiing   \n",
       "\n",
       "                                                   Event Medal  region notes  \\\n",
       "24950  Cross Country Skiing Men's 4 x 10 kilometres R...  Gold  Norway   NaN   \n",
       "41530  Cross Country Skiing Men's 4 x 10 kilometres R...  Gold  Norway   NaN   \n",
       "46198  Cross Country Skiing Men's 4 x 10 kilometres R...  Gold  Norway   NaN   \n",
       "\n",
       "      alpha 3 Continent_Name  \n",
       "24950     NOR         Europe  \n",
       "41530     NOR         Europe  \n",
       "46198     NOR         Europe  "
      ]
     },
     "execution_count": 45,
     "metadata": {},
     "output_type": "execute_result"
    }
   ],
   "source": [
    "df[(df[\"Year\"]==1992) & (df[\"Sport\"]==\"Cross Country Skiing\") & (df[\"region\"]==\"Norway\") & (df[\"Event\"]==\"Cross Country Skiing Men's 4 x 10 kilometres Relay\")]"
   ]
  },
  {
   "cell_type": "code",
   "execution_count": null,
   "id": "8cf9a923",
   "metadata": {},
   "outputs": [],
   "source": []
  }
 ],
 "metadata": {
  "kernelspec": {
   "display_name": "Python 3 (ipykernel)",
   "language": "python",
   "name": "python3"
  },
  "language_info": {
   "codemirror_mode": {
    "name": "ipython",
    "version": 3
   },
   "file_extension": ".py",
   "mimetype": "text/x-python",
   "name": "python",
   "nbconvert_exporter": "python",
   "pygments_lexer": "ipython3",
   "version": "3.11.4"
  }
 },
 "nbformat": 4,
 "nbformat_minor": 5
}
